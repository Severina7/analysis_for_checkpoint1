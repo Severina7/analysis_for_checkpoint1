{
 "cells": [
  {
   "cell_type": "markdown",
   "id": "eab819f9",
   "metadata": {},
   "source": [
    "## Analysis for the checkpoint project I"
   ]
  },
  {
   "cell_type": "markdown",
   "id": "9767ccd3",
   "metadata": {},
   "source": [
    "#### Why does churn matter\n",
    "- When churn is higher than growth, it's bad for business\n",
    "- When a company's churn is higher than the competition (or the average of the industry), it means it's doing something wrong and customers are leaving\n",
    "- When a company's churn is higher than the competition (or the average of the industry), it means it's loosing business to its competitors\n",
    "#### Variable is CHURN\n",
    "#### Goals: what are the drivers of churn?\n",
    "- Service quality\n",
    "- Price\n",
    "- Poor customer service\n",
    "- Features and content availibility\n",
    "#### My MVP:\n",
    "- One reason customers are churning\n",
    "- One way to solve\n",
    "- A clear process following the steps below and comprising photos and documentation:\n",
    "    - Prepare\n",
    "     Story\n",
    "     Audience\n",
    "     Setting\n",
    "     Brainstorm\n",
    "     Types of Viz\n",
    "    - Talk and Listen\n",
    "    - Sketch\n",
    "    - Prototype\n",
    "- My sources"
   ]
  },
  {
   "cell_type": "code",
   "execution_count": 3,
   "id": "6333394b",
   "metadata": {},
   "outputs": [],
   "source": [
    "import seaborn as sns\n",
    "import matplotlib.pyplot as plt\n",
    "import pandas as pd\n",
    "import math\n",
    "telco = pd.read_csv(\"Arsene BOUNDAONE - jemison_spreadsheet_exercises - Copy of Table1_CustDetails.csv\")"
   ]
  },
  {
   "cell_type": "code",
   "execution_count": 4,
   "id": "98669f93",
   "metadata": {
    "scrolled": true
   },
   "outputs": [
    {
     "data": {
      "text/html": [
       "<div>\n",
       "<style scoped>\n",
       "    .dataframe tbody tr th:only-of-type {\n",
       "        vertical-align: middle;\n",
       "    }\n",
       "\n",
       "    .dataframe tbody tr th {\n",
       "        vertical-align: top;\n",
       "    }\n",
       "\n",
       "    .dataframe thead th {\n",
       "        text-align: right;\n",
       "    }\n",
       "</style>\n",
       "<table border=\"1\" class=\"dataframe\">\n",
       "  <thead>\n",
       "    <tr style=\"text-align: right;\">\n",
       "      <th></th>\n",
       "      <th>customer_id</th>\n",
       "      <th>gender</th>\n",
       "      <th>is_senior_citizen</th>\n",
       "      <th>partner</th>\n",
       "      <th>dependents</th>\n",
       "      <th>phone_service</th>\n",
       "      <th>internet_service</th>\n",
       "      <th>contract_type</th>\n",
       "      <th>payment_type</th>\n",
       "      <th>monthly_charges</th>\n",
       "      <th>...</th>\n",
       "      <th>has_internet</th>\n",
       "      <th>has_phone_and_internet</th>\n",
       "      <th>partner_dependents</th>\n",
       "      <th>monthly_charges2</th>\n",
       "      <th>validate</th>\n",
       "      <th>phone_service_type</th>\n",
       "      <th>internet_service_type</th>\n",
       "      <th>contract_type.1</th>\n",
       "      <th>rounded_tenure</th>\n",
       "      <th>service_type</th>\n",
       "    </tr>\n",
       "  </thead>\n",
       "  <tbody>\n",
       "    <tr>\n",
       "      <th>0</th>\n",
       "      <td>0002-ORFBO</td>\n",
       "      <td>Female</td>\n",
       "      <td>0</td>\n",
       "      <td>Yes</td>\n",
       "      <td>Yes</td>\n",
       "      <td>1</td>\n",
       "      <td>1</td>\n",
       "      <td>1</td>\n",
       "      <td>Mailed check</td>\n",
       "      <td>65.6</td>\n",
       "      <td>...</td>\n",
       "      <td>True</td>\n",
       "      <td>True</td>\n",
       "      <td>3</td>\n",
       "      <td>65.6</td>\n",
       "      <td>TRUE</td>\n",
       "      <td>One Line</td>\n",
       "      <td>DSL</td>\n",
       "      <td>1 Year</td>\n",
       "      <td>9.0</td>\n",
       "      <td>Internet+Phone</td>\n",
       "    </tr>\n",
       "    <tr>\n",
       "      <th>1</th>\n",
       "      <td>0003-MKNFE</td>\n",
       "      <td>Male</td>\n",
       "      <td>0</td>\n",
       "      <td>No</td>\n",
       "      <td>No</td>\n",
       "      <td>2</td>\n",
       "      <td>1</td>\n",
       "      <td>0</td>\n",
       "      <td>Mailed check</td>\n",
       "      <td>59.9</td>\n",
       "      <td>...</td>\n",
       "      <td>True</td>\n",
       "      <td>True</td>\n",
       "      <td>0</td>\n",
       "      <td>59.9</td>\n",
       "      <td>TRUE</td>\n",
       "      <td>Two or More Lines</td>\n",
       "      <td>Fiber Optic</td>\n",
       "      <td>Month-to-Month</td>\n",
       "      <td>9.0</td>\n",
       "      <td>Internet+Phone</td>\n",
       "    </tr>\n",
       "    <tr>\n",
       "      <th>2</th>\n",
       "      <td>0004-TLHLJ</td>\n",
       "      <td>Male</td>\n",
       "      <td>0</td>\n",
       "      <td>No</td>\n",
       "      <td>No</td>\n",
       "      <td>1</td>\n",
       "      <td>2</td>\n",
       "      <td>0</td>\n",
       "      <td>Electronic check</td>\n",
       "      <td>73.9</td>\n",
       "      <td>...</td>\n",
       "      <td>True</td>\n",
       "      <td>True</td>\n",
       "      <td>0</td>\n",
       "      <td>73.9</td>\n",
       "      <td>TRUE</td>\n",
       "      <td>One Line</td>\n",
       "      <td>DSL</td>\n",
       "      <td>Month-to-Month</td>\n",
       "      <td>4.0</td>\n",
       "      <td>Internet+Phone</td>\n",
       "    </tr>\n",
       "    <tr>\n",
       "      <th>3</th>\n",
       "      <td>0011-IGKFF</td>\n",
       "      <td>Male</td>\n",
       "      <td>1</td>\n",
       "      <td>Yes</td>\n",
       "      <td>No</td>\n",
       "      <td>1</td>\n",
       "      <td>2</td>\n",
       "      <td>0</td>\n",
       "      <td>Electronic check</td>\n",
       "      <td>98.0</td>\n",
       "      <td>...</td>\n",
       "      <td>True</td>\n",
       "      <td>True</td>\n",
       "      <td>1</td>\n",
       "      <td>98</td>\n",
       "      <td>TRUE</td>\n",
       "      <td>One Line</td>\n",
       "      <td>DSL</td>\n",
       "      <td>Month-to-Month</td>\n",
       "      <td>13.0</td>\n",
       "      <td>Internet+Phone</td>\n",
       "    </tr>\n",
       "    <tr>\n",
       "      <th>4</th>\n",
       "      <td>0013-EXCHZ</td>\n",
       "      <td>Female</td>\n",
       "      <td>1</td>\n",
       "      <td>Yes</td>\n",
       "      <td>No</td>\n",
       "      <td>1</td>\n",
       "      <td>2</td>\n",
       "      <td>0</td>\n",
       "      <td>Mailed check</td>\n",
       "      <td>83.9</td>\n",
       "      <td>...</td>\n",
       "      <td>True</td>\n",
       "      <td>True</td>\n",
       "      <td>1</td>\n",
       "      <td>83.9</td>\n",
       "      <td>TRUE</td>\n",
       "      <td>One Line</td>\n",
       "      <td>DSL</td>\n",
       "      <td>Month-to-Month</td>\n",
       "      <td>3.0</td>\n",
       "      <td>Internet+Phone</td>\n",
       "    </tr>\n",
       "  </tbody>\n",
       "</table>\n",
       "<p>5 rows × 26 columns</p>\n",
       "</div>"
      ],
      "text/plain": [
       "  customer_id  gender  is_senior_citizen partner dependents  phone_service  \\\n",
       "0  0002-ORFBO  Female                  0     Yes        Yes              1   \n",
       "1  0003-MKNFE    Male                  0      No         No              2   \n",
       "2  0004-TLHLJ    Male                  0      No         No              1   \n",
       "3  0011-IGKFF    Male                  1     Yes         No              1   \n",
       "4  0013-EXCHZ  Female                  1     Yes         No              1   \n",
       "\n",
       "   internet_service  contract_type      payment_type  monthly_charges  ...  \\\n",
       "0                 1              1      Mailed check             65.6  ...   \n",
       "1                 1              0      Mailed check             59.9  ...   \n",
       "2                 2              0  Electronic check             73.9  ...   \n",
       "3                 2              0  Electronic check             98.0  ...   \n",
       "4                 2              0      Mailed check             83.9  ...   \n",
       "\n",
       "   has_internet has_phone_and_internet  partner_dependents  monthly_charges2  \\\n",
       "0          True                   True                   3              65.6   \n",
       "1          True                   True                   0              59.9   \n",
       "2          True                   True                   0              73.9   \n",
       "3          True                   True                   1                98   \n",
       "4          True                   True                   1              83.9   \n",
       "\n",
       "   validate  phone_service_type  internet_service_type  contract_type.1  \\\n",
       "0      TRUE            One Line                    DSL           1 Year   \n",
       "1      TRUE   Two or More Lines            Fiber Optic   Month-to-Month   \n",
       "2      TRUE            One Line                    DSL   Month-to-Month   \n",
       "3      TRUE            One Line                    DSL   Month-to-Month   \n",
       "4      TRUE            One Line                    DSL   Month-to-Month   \n",
       "\n",
       "   rounded_tenure    service_type  \n",
       "0             9.0  Internet+Phone  \n",
       "1             9.0  Internet+Phone  \n",
       "2             4.0  Internet+Phone  \n",
       "3            13.0  Internet+Phone  \n",
       "4             3.0  Internet+Phone  \n",
       "\n",
       "[5 rows x 26 columns]"
      ]
     },
     "execution_count": 4,
     "metadata": {},
     "output_type": "execute_result"
    }
   ],
   "source": [
    "telco.head()"
   ]
  },
  {
   "cell_type": "code",
   "execution_count": 6,
   "id": "64ce668f",
   "metadata": {},
   "outputs": [
    {
     "name": "stdout",
     "output_type": "stream",
     "text": [
      "<class 'pandas.core.frame.DataFrame'>\n",
      "RangeIndex: 7049 entries, 0 to 7048\n",
      "Data columns (total 26 columns):\n",
      " #   Column                  Non-Null Count  Dtype  \n",
      "---  ------                  --------------  -----  \n",
      " 0   customer_id             7049 non-null   object \n",
      " 1   gender                  7049 non-null   object \n",
      " 2   is_senior_citizen       7049 non-null   int64  \n",
      " 3   partner                 7049 non-null   object \n",
      " 4   dependents              7049 non-null   object \n",
      " 5   phone_service           7049 non-null   int64  \n",
      " 6   internet_service        7049 non-null   int64  \n",
      " 7   contract_type           7049 non-null   int64  \n",
      " 8   payment_type            7049 non-null   object \n",
      " 9   monthly_charges         7049 non-null   float64\n",
      " 10  total_charges           7038 non-null   float64\n",
      " 11  churn                   7049 non-null   object \n",
      " 12  tenure                  7049 non-null   float64\n",
      " 13  is_female               7049 non-null   bool   \n",
      " 14  has_churned             7049 non-null   bool   \n",
      " 15  has_phone               7049 non-null   bool   \n",
      " 16  has_internet            7049 non-null   bool   \n",
      " 17  has_phone_and_internet  7049 non-null   bool   \n",
      " 18  partner_dependents      7049 non-null   int64  \n",
      " 19  monthly_charges2        7049 non-null   object \n",
      " 20  validate                7049 non-null   object \n",
      " 21  phone_service_type      7049 non-null   object \n",
      " 22  internet_service_type   7049 non-null   object \n",
      " 23  contract_type.1         7049 non-null   object \n",
      " 24  rounded_tenure          7049 non-null   float64\n",
      " 25  service_type            7049 non-null   object \n",
      "dtypes: bool(5), float64(4), int64(5), object(12)\n",
      "memory usage: 1.2+ MB\n"
     ]
    }
   ],
   "source": [
    "telco.info()"
   ]
  },
  {
   "cell_type": "code",
   "execution_count": 7,
   "id": "8f4e94eb",
   "metadata": {
    "scrolled": true
   },
   "outputs": [
    {
     "data": {
      "text/plain": [
       "No     5179\n",
       "Yes    1870\n",
       "Name: churn, dtype: int64"
      ]
     },
     "execution_count": 7,
     "metadata": {},
     "output_type": "execute_result"
    }
   ],
   "source": [
    "telco.churn.value_counts()"
   ]
  },
  {
   "cell_type": "code",
   "execution_count": 14,
   "id": "0dc852a1",
   "metadata": {},
   "outputs": [
    {
     "data": {
      "text/plain": [
       "<AxesSubplot:>"
      ]
     },
     "execution_count": 14,
     "metadata": {},
     "output_type": "execute_result"
    },
    {
     "data": {
      "image/png": "[encoded data removed]",
      "text/plain": [
       "<Figure size 432x288 with 1 Axes>"
      ]
     },
     "metadata": {
      "needs_background": "light"
     },
     "output_type": "display_data"
    }
   ],
   "source": [
    "telco.churn.hist()"
   ]
  },
  {
   "cell_type": "code",
   "execution_count": 18,
   "id": "47590885",
   "metadata": {},
   "outputs": [
    {
     "data": {
      "text/plain": [
       "26.53"
      ]
     },
     "execution_count": 18,
     "metadata": {},
     "output_type": "execute_result"
    }
   ],
   "source": [
    "round(telco[telco.churn == \"Yes\"].shape[0] / telco.shape[0]*100, 2)"
   ]
  },
  {
   "cell_type": "markdown",
   "id": "63148ebd",
   "metadata": {},
   "source": [
    "#### There is a 26.53% churn of Telco clients\n",
    "#### The telecommunication industry according to Statista and smartlook.com has an average churn rate of 21%.\n",
    "#### This means that TelcoCo has an above average churn rate.\n",
    "#### Questions we can ask ourselves are:\n",
    "- Is TelcoCo recovering customer acquisition costs before they leave?\n",
    "- Is the company's growth rate higher than it's churn rate?\n",
    "#### We cannot answer the previous questions so we will move onto the next ones.\n",
    "\n",
    "#### According to Investopedia, a churn rate is the most valuable when we know what type of customer has churned. We can ask ourselves:\n",
    "- Wat is the cost of those who are leaving?"
   ]
  },
  {
   "cell_type": "code",
   "execution_count": 27,
   "id": "073875dc",
   "metadata": {},
   "outputs": [
    {
     "data": {
      "text/plain": [
       "1870"
      ]
     },
     "execution_count": 27,
     "metadata": {},
     "output_type": "execute_result"
    }
   ],
   "source": [
    "telco[telco.churn == \"Yes\"].shape[0]"
   ]
  },
  {
   "cell_type": "code",
   "execution_count": 33,
   "id": "01692bb2",
   "metadata": {},
   "outputs": [
    {
     "data": {
      "text/plain": [
       "(     customer_id  gender  is_senior_citizen partner dependents  phone_service  \\\n",
       " 2     0004-TLHLJ    Male                  0      No         No              1   \n",
       " 3     0011-IGKFF    Male                  1     Yes         No              1   \n",
       " 4     0013-EXCHZ  Female                  1     Yes         No              1   \n",
       " 18    0022-TCJCI    Male                  1      No         No              1   \n",
       " 19    0023-HGHWL    Male                  1      No         No              0   \n",
       " ...          ...     ...                ...     ...        ...            ...   \n",
       " 7023  9965-YOKZB    Male                  1      No         No              2   \n",
       " 7031  0032-PGELS  Female                  0     Yes        Yes              0   \n",
       " 7042  9985-MWVIX  Female                  0      No         No              1   \n",
       " 7043  9986-BONCE  Female                  0      No         No              1   \n",
       " 7045  9992-RRAMN    Male                  0     Yes         No              2   \n",
       " \n",
       "       internet_service  contract_type               payment_type  \\\n",
       " 2                    2              0           Electronic check   \n",
       " 3                    2              0           Electronic check   \n",
       " 4                    2              0               Mailed check   \n",
       " 18                   1              1    Credit card (automatic)   \n",
       " 19                   1              0           Electronic check   \n",
       " ...                ...            ...                        ...   \n",
       " 7023                 2              0           Electronic check   \n",
       " 7031                 1              0  Bank transfer (automatic)   \n",
       " 7042                 2              0               Mailed check   \n",
       " 7043                 0              0  Bank transfer (automatic)   \n",
       " 7045                 2              0           Electronic check   \n",
       " \n",
       "       monthly_charges  ...  has_internet has_phone_and_internet  \\\n",
       " 2               73.90  ...          True                   True   \n",
       " 3               98.00  ...          True                   True   \n",
       " 4               83.90  ...          True                   True   \n",
       " 18              62.70  ...          True                   True   \n",
       " 19              25.10  ...          True                  False   \n",
       " ...               ...  ...           ...                    ...   \n",
       " 7023            83.85  ...          True                   True   \n",
       " 7031            30.50  ...          True                  False   \n",
       " 7042            70.15  ...          True                   True   \n",
       " 7043            20.95  ...         False                  False   \n",
       " 7045            85.10  ...          True                   True   \n",
       " \n",
       "       partner_dependents  monthly_charges2  validate  phone_service_type  \\\n",
       " 2                      0              73.9      TRUE            One Line   \n",
       " 3                      1                98      TRUE            One Line   \n",
       " 4                      1              83.9      TRUE            One Line   \n",
       " 18                     0              62.7      TRUE            One Line   \n",
       " 19                     0              25.1      TRUE    No Phone Service   \n",
       " ...                  ...               ...       ...                 ...   \n",
       " 7023                   0             83.85      TRUE   Two or More Lines   \n",
       " 7031                   3              30.5      TRUE    No Phone Service   \n",
       " 7042                   0             70.15      TRUE            One Line   \n",
       " 7043                   0             20.95      TRUE            One Line   \n",
       " 7045                   1              85.1      TRUE   Two or More Lines   \n",
       " \n",
       "       internet_service_type  contract_type.1  rounded_tenure    service_type  \n",
       " 2                       DSL   Month-to-Month             4.0  Internet+Phone  \n",
       " 3                       DSL   Month-to-Month            13.0  Internet+Phone  \n",
       " 4                       DSL   Month-to-Month             3.0  Internet+Phone  \n",
       " 18                      DSL           1 Year            45.0  Internet+Phone  \n",
       " 19      No Internet Service   Month-to-Month             1.0        Internet  \n",
       " ...                     ...              ...             ...             ...  \n",
       " 7023            Fiber Optic   Month-to-Month             9.0  Internet+Phone  \n",
       " 7031    No Internet Service   Month-to-Month             1.0        Internet  \n",
       " 7042                    DSL   Month-to-Month             1.0  Internet+Phone  \n",
       " 7043                    DSL   Month-to-Month             4.0           Phone  \n",
       " 7045            Fiber Optic   Month-to-Month            22.0  Internet+Phone  \n",
       " \n",
       " [1870 rows x 26 columns],\n",
       " 16068062.85)"
      ]
     },
     "execution_count": 33,
     "metadata": {},
     "output_type": "execute_result"
    }
   ],
   "source": [
    "telco[telco.churn == \"Yes\"], telco.total_charges.sum()"
   ]
  },
  {
   "cell_type": "markdown",
   "id": "ddb13a43",
   "metadata": {},
   "source": [
    "- Is there a factor that determine significantly which customer is leaving and who is staying?\n",
    "#### Let's find out by computing the correlation between meaningful variables we have."
   ]
  }
 ],
 "metadata": {
  "kernelspec": {
   "display_name": "Python 3 (ipykernel)",
   "language": "python",
   "name": "python3"
  },
  "language_info": {
   "codemirror_mode": {
    "name": "ipython",
    "version": 3
   },
   "file_extension": ".py",
   "mimetype": "text/x-python",
   "name": "python",
   "nbconvert_exporter": "python",
   "pygments_lexer": "ipython3",
   "version": "3.9.7"
  }
 },
 "nbformat": 4,
 "nbformat_minor": 5
}

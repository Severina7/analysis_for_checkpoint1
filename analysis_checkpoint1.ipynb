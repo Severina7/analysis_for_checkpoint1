{
 "cells": [
  {
   "cell_type": "markdown",
   "id": "2f3dbdff",
   "metadata": {},
   "source": [
    "## Analysis for the checkpoint project I"
   ]
  },
  {
   "cell_type": "markdown",
   "id": "52d51075",
   "metadata": {},
   "source": [
    "#### Why does churn matter\n",
    "- When churn is higher than growth, it's bad for business\n",
    "- When a company's churn is higher than the competition (or the average of the industry), it means it's doing something wrong and customers are leaving\n",
    "- When a company's churn is higher than the competition (or the average of the industry), it means it's loosing business to its competitors\n",
    "#### Variable is CHURN\n",
    "#### Goals: what are the drivers of churn?\n",
    "- Service quality\n",
    "- Price\n",
    "- Poor customer service\n",
    "- Features and content availibility\n",
    "#### My MVP:\n",
    "- One reason customers are churning\n",
    "- One way to solve\n",
    "- A clear process following the steps below and comprising photos and documentation:\n",
    "    - Prepare\n",
    "     Story\n",
    "     Audience\n",
    "     Setting\n",
    "     Brainstorm\n",
    "     Types of Viz\n",
    "    - Talk and Listen\n",
    "    - Sketch\n",
    "    - Prototype\n",
    "- My sources"
   ]
  },
  {
   "cell_type": "code",
   "execution_count": 2,
   "id": "a7c7d167",
   "metadata": {},
   "outputs": [],
   "source": [
    "import seaborn as sns\n",
    "import matplotlib.pyplot as plt\n",
    "import pandas as pd\n",
    "import math\n",
    "telco = pd.read_csv(\"Arsene BOUNDAONE - jemison_spreadsheet_exercises - Copy of Table1_CustDetails.csv\")"
   ]
  },
  {
   "cell_type": "code",
   "execution_count": 4,
   "id": "bcb1eb57",
   "metadata": {
    "scrolled": false
   },
   "outputs": [
    {
     "data": {
      "text/html": [
       "<div>\n",
       "<style scoped>\n",
       "    .dataframe tbody tr th:only-of-type {\n",
       "        vertical-align: middle;\n",
       "    }\n",
       "\n",
       "    .dataframe tbody tr th {\n",
       "        vertical-align: top;\n",
       "    }\n",
       "\n",
       "    .dataframe thead th {\n",
       "        text-align: right;\n",
       "    }\n",
       "</style>\n",
       "<table border=\"1\" class=\"dataframe\">\n",
       "  <thead>\n",
       "    <tr style=\"text-align: right;\">\n",
       "      <th></th>\n",
       "      <th>customer_id</th>\n",
       "      <th>gender</th>\n",
       "      <th>is_senior_citizen</th>\n",
       "      <th>partner</th>\n",
       "      <th>dependents</th>\n",
       "      <th>phone_service</th>\n",
       "      <th>internet_service</th>\n",
       "      <th>contract_type</th>\n",
       "      <th>payment_type</th>\n",
       "      <th>monthly_charges</th>\n",
       "      <th>...</th>\n",
       "      <th>has_internet</th>\n",
       "      <th>has_phone_and_internet</th>\n",
       "      <th>partner_dependents</th>\n",
       "      <th>monthly_charges2</th>\n",
       "      <th>validate</th>\n",
       "      <th>phone_service_type</th>\n",
       "      <th>internet_service_type</th>\n",
       "      <th>contract_type.1</th>\n",
       "      <th>rounded_tenure</th>\n",
       "      <th>service_type</th>\n",
       "    </tr>\n",
       "  </thead>\n",
       "  <tbody>\n",
       "    <tr>\n",
       "      <th>2183</th>\n",
       "      <td>3129-AAQOU</td>\n",
       "      <td>Female</td>\n",
       "      <td>0</td>\n",
       "      <td>Yes</td>\n",
       "      <td>Yes</td>\n",
       "      <td>2</td>\n",
       "      <td>0</td>\n",
       "      <td>2</td>\n",
       "      <td>Mailed check</td>\n",
       "      <td>25.60</td>\n",
       "      <td>...</td>\n",
       "      <td>False</td>\n",
       "      <td>False</td>\n",
       "      <td>3</td>\n",
       "      <td>25.6</td>\n",
       "      <td>TRUE</td>\n",
       "      <td>Two or More Lines</td>\n",
       "      <td>Fiber Optic</td>\n",
       "      <td>2 Year</td>\n",
       "      <td>19.0</td>\n",
       "      <td>Phone</td>\n",
       "    </tr>\n",
       "    <tr>\n",
       "      <th>3017</th>\n",
       "      <td>4317-VTEOA</td>\n",
       "      <td>Male</td>\n",
       "      <td>0</td>\n",
       "      <td>No</td>\n",
       "      <td>No</td>\n",
       "      <td>1</td>\n",
       "      <td>1</td>\n",
       "      <td>0</td>\n",
       "      <td>Electronic check</td>\n",
       "      <td>50.75</td>\n",
       "      <td>...</td>\n",
       "      <td>True</td>\n",
       "      <td>True</td>\n",
       "      <td>0</td>\n",
       "      <td>50.75</td>\n",
       "      <td>TRUE</td>\n",
       "      <td>One Line</td>\n",
       "      <td>DSL</td>\n",
       "      <td>Month-to-Month</td>\n",
       "      <td>1.0</td>\n",
       "      <td>Internet+Phone</td>\n",
       "    </tr>\n",
       "    <tr>\n",
       "      <th>3310</th>\n",
       "      <td>4716-HHKQH</td>\n",
       "      <td>Male</td>\n",
       "      <td>1</td>\n",
       "      <td>Yes</td>\n",
       "      <td>No</td>\n",
       "      <td>2</td>\n",
       "      <td>2</td>\n",
       "      <td>0</td>\n",
       "      <td>Electronic check</td>\n",
       "      <td>107.05</td>\n",
       "      <td>...</td>\n",
       "      <td>True</td>\n",
       "      <td>True</td>\n",
       "      <td>1</td>\n",
       "      <td>107.05</td>\n",
       "      <td>TRUE</td>\n",
       "      <td>Two or More Lines</td>\n",
       "      <td>Fiber Optic</td>\n",
       "      <td>Month-to-Month</td>\n",
       "      <td>20.0</td>\n",
       "      <td>Internet+Phone</td>\n",
       "    </tr>\n",
       "    <tr>\n",
       "      <th>4013</th>\n",
       "      <td>5652-MSDEY</td>\n",
       "      <td>Female</td>\n",
       "      <td>0</td>\n",
       "      <td>No</td>\n",
       "      <td>No</td>\n",
       "      <td>2</td>\n",
       "      <td>2</td>\n",
       "      <td>0</td>\n",
       "      <td>Mailed check</td>\n",
       "      <td>75.75</td>\n",
       "      <td>...</td>\n",
       "      <td>True</td>\n",
       "      <td>True</td>\n",
       "      <td>0</td>\n",
       "      <td>75.75</td>\n",
       "      <td>TRUE</td>\n",
       "      <td>Two or More Lines</td>\n",
       "      <td>Fiber Optic</td>\n",
       "      <td>Month-to-Month</td>\n",
       "      <td>10.0</td>\n",
       "      <td>Internet+Phone</td>\n",
       "    </tr>\n",
       "    <tr>\n",
       "      <th>1209</th>\n",
       "      <td>1779-PWPMG</td>\n",
       "      <td>Female</td>\n",
       "      <td>1</td>\n",
       "      <td>Yes</td>\n",
       "      <td>No</td>\n",
       "      <td>2</td>\n",
       "      <td>2</td>\n",
       "      <td>2</td>\n",
       "      <td>Bank transfer (automatic)</td>\n",
       "      <td>114.65</td>\n",
       "      <td>...</td>\n",
       "      <td>True</td>\n",
       "      <td>True</td>\n",
       "      <td>1</td>\n",
       "      <td>114.65</td>\n",
       "      <td>TRUE</td>\n",
       "      <td>Two or More Lines</td>\n",
       "      <td>Fiber Optic</td>\n",
       "      <td>2 Year</td>\n",
       "      <td>73.0</td>\n",
       "      <td>Internet+Phone</td>\n",
       "    </tr>\n",
       "    <tr>\n",
       "      <th>4236</th>\n",
       "      <td>5977-CKHON</td>\n",
       "      <td>Female</td>\n",
       "      <td>0</td>\n",
       "      <td>Yes</td>\n",
       "      <td>Yes</td>\n",
       "      <td>2</td>\n",
       "      <td>2</td>\n",
       "      <td>0</td>\n",
       "      <td>Bank transfer (automatic)</td>\n",
       "      <td>92.55</td>\n",
       "      <td>...</td>\n",
       "      <td>True</td>\n",
       "      <td>True</td>\n",
       "      <td>3</td>\n",
       "      <td>92.55</td>\n",
       "      <td>TRUE</td>\n",
       "      <td>Two or More Lines</td>\n",
       "      <td>Fiber Optic</td>\n",
       "      <td>Month-to-Month</td>\n",
       "      <td>44.0</td>\n",
       "      <td>Internet+Phone</td>\n",
       "    </tr>\n",
       "    <tr>\n",
       "      <th>4063</th>\n",
       "      <td>5729-KLZAR</td>\n",
       "      <td>Female</td>\n",
       "      <td>0</td>\n",
       "      <td>Yes</td>\n",
       "      <td>Yes</td>\n",
       "      <td>1</td>\n",
       "      <td>2</td>\n",
       "      <td>0</td>\n",
       "      <td>Electronic check</td>\n",
       "      <td>80.85</td>\n",
       "      <td>...</td>\n",
       "      <td>True</td>\n",
       "      <td>True</td>\n",
       "      <td>3</td>\n",
       "      <td>80.85</td>\n",
       "      <td>TRUE</td>\n",
       "      <td>One Line</td>\n",
       "      <td>DSL</td>\n",
       "      <td>Month-to-Month</td>\n",
       "      <td>4.0</td>\n",
       "      <td>Internet+Phone</td>\n",
       "    </tr>\n",
       "    <tr>\n",
       "      <th>3103</th>\n",
       "      <td>4450-MDZFX</td>\n",
       "      <td>Male</td>\n",
       "      <td>0</td>\n",
       "      <td>Yes</td>\n",
       "      <td>Yes</td>\n",
       "      <td>2</td>\n",
       "      <td>2</td>\n",
       "      <td>0</td>\n",
       "      <td>Bank transfer (automatic)</td>\n",
       "      <td>74.35</td>\n",
       "      <td>...</td>\n",
       "      <td>True</td>\n",
       "      <td>True</td>\n",
       "      <td>3</td>\n",
       "      <td>74.35</td>\n",
       "      <td>TRUE</td>\n",
       "      <td>Two or More Lines</td>\n",
       "      <td>Fiber Optic</td>\n",
       "      <td>Month-to-Month</td>\n",
       "      <td>60.0</td>\n",
       "      <td>Internet+Phone</td>\n",
       "    </tr>\n",
       "    <tr>\n",
       "      <th>1257</th>\n",
       "      <td>1855-CFULU</td>\n",
       "      <td>Female</td>\n",
       "      <td>1</td>\n",
       "      <td>No</td>\n",
       "      <td>No</td>\n",
       "      <td>1</td>\n",
       "      <td>0</td>\n",
       "      <td>0</td>\n",
       "      <td>Mailed check</td>\n",
       "      <td>20.05</td>\n",
       "      <td>...</td>\n",
       "      <td>False</td>\n",
       "      <td>False</td>\n",
       "      <td>0</td>\n",
       "      <td>20.05</td>\n",
       "      <td>TRUE</td>\n",
       "      <td>One Line</td>\n",
       "      <td>DSL</td>\n",
       "      <td>Month-to-Month</td>\n",
       "      <td>5.0</td>\n",
       "      <td>Phone</td>\n",
       "    </tr>\n",
       "    <tr>\n",
       "      <th>4358</th>\n",
       "      <td>6142-VSJQO</td>\n",
       "      <td>Female</td>\n",
       "      <td>0</td>\n",
       "      <td>Yes</td>\n",
       "      <td>Yes</td>\n",
       "      <td>1</td>\n",
       "      <td>1</td>\n",
       "      <td>0</td>\n",
       "      <td>Bank transfer (automatic)</td>\n",
       "      <td>44.35</td>\n",
       "      <td>...</td>\n",
       "      <td>True</td>\n",
       "      <td>True</td>\n",
       "      <td>3</td>\n",
       "      <td>44.35</td>\n",
       "      <td>TRUE</td>\n",
       "      <td>One Line</td>\n",
       "      <td>DSL</td>\n",
       "      <td>Month-to-Month</td>\n",
       "      <td>1.0</td>\n",
       "      <td>Internet+Phone</td>\n",
       "    </tr>\n",
       "  </tbody>\n",
       "</table>\n",
       "<p>10 rows × 26 columns</p>\n",
       "</div>"
      ],
      "text/plain": [
       "     customer_id  gender  is_senior_citizen partner dependents  phone_service  \\\n",
       "2183  3129-AAQOU  Female                  0     Yes        Yes              2   \n",
       "3017  4317-VTEOA    Male                  0      No         No              1   \n",
       "3310  4716-HHKQH    Male                  1     Yes         No              2   \n",
       "4013  5652-MSDEY  Female                  0      No         No              2   \n",
       "1209  1779-PWPMG  Female                  1     Yes         No              2   \n",
       "4236  5977-CKHON  Female                  0     Yes        Yes              2   \n",
       "4063  5729-KLZAR  Female                  0     Yes        Yes              1   \n",
       "3103  4450-MDZFX    Male                  0     Yes        Yes              2   \n",
       "1257  1855-CFULU  Female                  1      No         No              1   \n",
       "4358  6142-VSJQO  Female                  0     Yes        Yes              1   \n",
       "\n",
       "      internet_service  contract_type               payment_type  \\\n",
       "2183                 0              2               Mailed check   \n",
       "3017                 1              0           Electronic check   \n",
       "3310                 2              0           Electronic check   \n",
       "4013                 2              0               Mailed check   \n",
       "1209                 2              2  Bank transfer (automatic)   \n",
       "4236                 2              0  Bank transfer (automatic)   \n",
       "4063                 2              0           Electronic check   \n",
       "3103                 2              0  Bank transfer (automatic)   \n",
       "1257                 0              0               Mailed check   \n",
       "4358                 1              0  Bank transfer (automatic)   \n",
       "\n",
       "      monthly_charges  ...  has_internet has_phone_and_internet  \\\n",
       "2183            25.60  ...         False                  False   \n",
       "3017            50.75  ...          True                   True   \n",
       "3310           107.05  ...          True                   True   \n",
       "4013            75.75  ...          True                   True   \n",
       "1209           114.65  ...          True                   True   \n",
       "4236            92.55  ...          True                   True   \n",
       "4063            80.85  ...          True                   True   \n",
       "3103            74.35  ...          True                   True   \n",
       "1257            20.05  ...         False                  False   \n",
       "4358            44.35  ...          True                   True   \n",
       "\n",
       "      partner_dependents  monthly_charges2  validate  phone_service_type  \\\n",
       "2183                   3              25.6      TRUE   Two or More Lines   \n",
       "3017                   0             50.75      TRUE            One Line   \n",
       "3310                   1            107.05      TRUE   Two or More Lines   \n",
       "4013                   0             75.75      TRUE   Two or More Lines   \n",
       "1209                   1            114.65      TRUE   Two or More Lines   \n",
       "4236                   3             92.55      TRUE   Two or More Lines   \n",
       "4063                   3             80.85      TRUE            One Line   \n",
       "3103                   3             74.35      TRUE   Two or More Lines   \n",
       "1257                   0             20.05      TRUE            One Line   \n",
       "4358                   3             44.35      TRUE            One Line   \n",
       "\n",
       "      internet_service_type  contract_type.1  rounded_tenure    service_type  \n",
       "2183            Fiber Optic           2 Year            19.0           Phone  \n",
       "3017                    DSL   Month-to-Month             1.0  Internet+Phone  \n",
       "3310            Fiber Optic   Month-to-Month            20.0  Internet+Phone  \n",
       "4013            Fiber Optic   Month-to-Month            10.0  Internet+Phone  \n",
       "1209            Fiber Optic           2 Year            73.0  Internet+Phone  \n",
       "4236            Fiber Optic   Month-to-Month            44.0  Internet+Phone  \n",
       "4063                    DSL   Month-to-Month             4.0  Internet+Phone  \n",
       "3103            Fiber Optic   Month-to-Month            60.0  Internet+Phone  \n",
       "1257                    DSL   Month-to-Month             5.0           Phone  \n",
       "4358                    DSL   Month-to-Month             1.0  Internet+Phone  \n",
       "\n",
       "[10 rows x 26 columns]"
      ]
     },
     "execution_count": 4,
     "metadata": {},
     "output_type": "execute_result"
    }
   ],
   "source": [
    "telco.sample(10)"
   ]
  },
  {
   "cell_type": "code",
   "execution_count": 6,
   "id": "91039c19",
   "metadata": {},
   "outputs": [
    {
     "name": "stdout",
     "output_type": "stream",
     "text": [
      "<class 'pandas.core.frame.DataFrame'>\n",
      "RangeIndex: 7049 entries, 0 to 7048\n",
      "Data columns (total 26 columns):\n",
      " #   Column                  Non-Null Count  Dtype  \n",
      "---  ------                  --------------  -----  \n",
      " 0   customer_id             7049 non-null   object \n",
      " 1   gender                  7049 non-null   object \n",
      " 2   is_senior_citizen       7049 non-null   int64  \n",
      " 3   partner                 7049 non-null   object \n",
      " 4   dependents              7049 non-null   object \n",
      " 5   phone_service           7049 non-null   int64  \n",
      " 6   internet_service        7049 non-null   int64  \n",
      " 7   contract_type           7049 non-null   int64  \n",
      " 8   payment_type            7049 non-null   object \n",
      " 9   monthly_charges         7049 non-null   float64\n",
      " 10  total_charges           7038 non-null   float64\n",
      " 11  churn                   7049 non-null   object \n",
      " 12  tenure                  7049 non-null   float64\n",
      " 13  is_female               7049 non-null   bool   \n",
      " 14  has_churned             7049 non-null   bool   \n",
      " 15  has_phone               7049 non-null   bool   \n",
      " 16  has_internet            7049 non-null   bool   \n",
      " 17  has_phone_and_internet  7049 non-null   bool   \n",
      " 18  partner_dependents      7049 non-null   int64  \n",
      " 19  monthly_charges2        7049 non-null   object \n",
      " 20  validate                7049 non-null   object \n",
      " 21  phone_service_type      7049 non-null   object \n",
      " 22  internet_service_type   7049 non-null   object \n",
      " 23  contract_type.1         7049 non-null   object \n",
      " 24  rounded_tenure          7049 non-null   float64\n",
      " 25  service_type            7049 non-null   object \n",
      "dtypes: bool(5), float64(4), int64(5), object(12)\n",
      "memory usage: 1.2+ MB\n"
     ]
    }
   ],
   "source": [
    "telco.info()"
   ]
  },
  {
   "cell_type": "code",
   "execution_count": 7,
   "id": "fd296390",
   "metadata": {
    "scrolled": true
   },
   "outputs": [
    {
     "data": {
      "text/plain": [
       "No     5179\n",
       "Yes    1870\n",
       "Name: churn, dtype: int64"
      ]
     },
     "execution_count": 7,
     "metadata": {},
     "output_type": "execute_result"
    }
   ],
   "source": [
    "telco.churn.value_counts()"
   ]
  },
  {
   "cell_type": "code",
   "execution_count": 14,
   "id": "5f11f297",
   "metadata": {},
   "outputs": [
    {
     "data": {
      "text/plain": [
       "<AxesSubplot:>"
      ]
     },
     "execution_count": 14,
     "metadata": {},
     "output_type": "execute_result"
    },
    {
     "data": {
      "image/png": "[encoded data removed]",
      "text/plain": [
       "<Figure size 432x288 with 1 Axes>"
      ]
     },
     "metadata": {
      "needs_background": "light"
     },
     "output_type": "display_data"
    }
   ],
   "source": [
    "telco.churn.hist()"
   ]
  },
  {
   "cell_type": "code",
   "execution_count": 18,
   "id": "61b152ff",
   "metadata": {},
   "outputs": [
    {
     "data": {
      "text/plain": [
       "26.53"
      ]
     },
     "execution_count": 18,
     "metadata": {},
     "output_type": "execute_result"
    }
   ],
   "source": [
    "round(telco[telco.churn == \"Yes\"].shape[0] / telco.shape[0]*100, 2)"
   ]
  },
  {
   "cell_type": "markdown",
   "id": "57bff773",
   "metadata": {},
   "source": [
    "#### There is a 26.53% churn of Telco clients\n",
    "#### The telecommunication industry according to Statista and smartlook.com has an average churn rate of 21%.\n",
    "#### This means that TelcoCo has an above average churn rate.\n",
    "#### Questions we can ask ourselves are:\n",
    "- Is TelcoCo recovering customer acquisition costs before they leave?\n",
    "- Is the company's growth rate higher than it's churn rate?\n",
    "#### We cannot answer the previous questions so we will move onto the next ones.\n",
    "\n",
    "#### According to Investopedia, a churn rate is the most valuable when we know what type of customer has churned. We can ask ourselves:\n",
    "- What is the cost of those who are leaving?"
   ]
  },
  {
   "cell_type": "code",
   "execution_count": 40,
   "id": "2caf9175",
   "metadata": {},
   "outputs": [
    {
     "data": {
      "text/plain": [
       "1870"
      ]
     },
     "execution_count": 40,
     "metadata": {},
     "output_type": "execute_result"
    }
   ],
   "source": [
    "telco[telco.churn == 'Yes'].shape[0]"
   ]
  },
  {
   "cell_type": "code",
   "execution_count": 47,
   "id": "10e47763",
   "metadata": {},
   "outputs": [],
   "source": [
    "churn_yes = telco[telco.churn == 'Yes'].shape[0]"
   ]
  },
  {
   "cell_type": "code",
   "execution_count": 49,
   "id": "f0703814",
   "metadata": {},
   "outputs": [
    {
     "data": {
      "text/plain": [
       "<AxesSubplot:xlabel='has_churned', ylabel='total_charges'>"
      ]
     },
     "execution_count": 49,
     "metadata": {},
     "output_type": "execute_result"
    },
    {
     "data": {
      "image/png": "[encoded data removed]",
      "text/plain": [
       "<Figure size 432x288 with 1 Axes>"
      ]
     },
     "metadata": {
      "needs_background": "light"
     },
     "output_type": "display_data"
    }
   ],
   "source": [
    "sns.barplot(data = telco, x=\"has_churned\", y=\"total_charges\")"
   ]
  },
  {
   "cell_type": "code",
   "execution_count": null,
   "id": "0eae5233",
   "metadata": {},
   "outputs": [],
   "source": []
  },
  {
   "cell_type": "markdown",
   "id": "7b6a824a",
   "metadata": {},
   "source": [
    "- Is there a factor that determine significantly which customer is leaving and who is staying?\n",
    "#### Let's find out by computing the correlation between meaningful variables we have."
   ]
  }
 ],
 "metadata": {
  "kernelspec": {
   "display_name": "Python 3 (ipykernel)",
   "language": "python",
   "name": "python3"
  },
  "language_info": {
   "codemirror_mode": {
    "name": "ipython",
    "version": 3
   },
   "file_extension": ".py",
   "mimetype": "text/x-python",
   "name": "python",
   "nbconvert_exporter": "python",
   "pygments_lexer": "ipython3",
   "version": "3.9.7"
  }
 },
 "nbformat": 4,
 "nbformat_minor": 5
}
